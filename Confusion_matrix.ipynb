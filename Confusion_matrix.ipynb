{
  "nbformat": 4,
  "nbformat_minor": 0,
  "metadata": {
    "colab": {
      "name": "Confusion_matrix.ipynb",
      "provenance": [],
      "collapsed_sections": [],
      "include_colab_link": true
    },
    "kernelspec": {
      "name": "python3",
      "display_name": "Python 3"
    }
  },
  "cells": [
    {
      "cell_type": "markdown",
      "metadata": {
        "id": "view-in-github",
        "colab_type": "text"
      },
      "source": [
        "<a href=\"https://colab.research.google.com/github/dhivyapm/divya/blob/master/Confusion_matrix.ipynb\" target=\"_parent\"><img src=\"https://colab.research.google.com/assets/colab-badge.svg\" alt=\"Open In Colab\"/></a>"
      ]
    },
    {
      "cell_type": "markdown",
      "metadata": {
        "id": "W3WaE9hmew_L",
        "colab_type": "text"
      },
      "source": [
        "#Confusion Matrix\n",
        "A **confusion matrix** is a table that is often used to describe the performance of a classification model (or “classifier”) on a set of test data for which the true values are known."
      ]
    },
    {
      "cell_type": "code",
      "metadata": {
        "id": "IM2S_5xTeybb",
        "colab_type": "code",
        "colab": {}
      },
      "source": [
        "#importing the libraries pandas and numpy\n",
        "#numpy is usually for computational purpose\n",
        "import  numpy  as  np\n",
        "#pandas is usually to convert the array to series or table format(DataFrame)\n",
        "import pandas as pd"
      ],
      "execution_count": 0,
      "outputs": []
    },
    {
      "cell_type": "code",
      "metadata": {
        "id": "gxst0jOfx3Eq",
        "colab_type": "code",
        "colab": {}
      },
      "source": [
        "#Here I created dummy dictionary with 2 columns and 4 classes in it.\n",
        "data = {'Actual': [1, 0, 0, 0, 2, 3],'Predicted':[1, 3, 0, 1, 2, 0]}"
      ],
      "execution_count": 0,
      "outputs": []
    },
    {
      "cell_type": "code",
      "metadata": {
        "id": "OX_Gsz74gH68",
        "colab_type": "code",
        "outputId": "9792a667-8114-4a4a-df57-7d412e9193c8",
        "colab": {
          "base_uri": "https://localhost:8080/",
          "height": 34
        }
      },
      "source": [
        "data"
      ],
      "execution_count": 0,
      "outputs": [
        {
          "output_type": "execute_result",
          "data": {
            "text/plain": [
              "{'Actual': [1, 0, 0, 0, 2, 3], 'Predicted': [1, 3, 0, 1, 2, 0]}"
            ]
          },
          "metadata": {
            "tags": []
          },
          "execution_count": 29
        }
      ]
    },
    {
      "cell_type": "code",
      "metadata": {
        "id": "XH3yrdvzJmss",
        "colab_type": "code",
        "colab": {}
      },
      "source": [
        "#here I converted the dictionary into the DataFrame which is nothing but tabular form\n",
        "df = pd.DataFrame(data, columns=['Actual','Predicted'])"
      ],
      "execution_count": 0,
      "outputs": []
    },
    {
      "cell_type": "code",
      "metadata": {
        "id": "mAjQOa8qgYhv",
        "colab_type": "code",
        "outputId": "bf1492fd-cef3-4298-c58c-5cb2844ddc85",
        "colab": {
          "base_uri": "https://localhost:8080/",
          "height": 225
        }
      },
      "source": [
        "df"
      ],
      "execution_count": 0,
      "outputs": [
        {
          "output_type": "execute_result",
          "data": {
            "text/html": [
              "<div>\n",
              "<style scoped>\n",
              "    .dataframe tbody tr th:only-of-type {\n",
              "        vertical-align: middle;\n",
              "    }\n",
              "\n",
              "    .dataframe tbody tr th {\n",
              "        vertical-align: top;\n",
              "    }\n",
              "\n",
              "    .dataframe thead th {\n",
              "        text-align: right;\n",
              "    }\n",
              "</style>\n",
              "<table border=\"1\" class=\"dataframe\">\n",
              "  <thead>\n",
              "    <tr style=\"text-align: right;\">\n",
              "      <th></th>\n",
              "      <th>Actual</th>\n",
              "      <th>Predicted</th>\n",
              "    </tr>\n",
              "  </thead>\n",
              "  <tbody>\n",
              "    <tr>\n",
              "      <th>0</th>\n",
              "      <td>1</td>\n",
              "      <td>1</td>\n",
              "    </tr>\n",
              "    <tr>\n",
              "      <th>1</th>\n",
              "      <td>0</td>\n",
              "      <td>3</td>\n",
              "    </tr>\n",
              "    <tr>\n",
              "      <th>2</th>\n",
              "      <td>0</td>\n",
              "      <td>0</td>\n",
              "    </tr>\n",
              "    <tr>\n",
              "      <th>3</th>\n",
              "      <td>0</td>\n",
              "      <td>1</td>\n",
              "    </tr>\n",
              "    <tr>\n",
              "      <th>4</th>\n",
              "      <td>2</td>\n",
              "      <td>2</td>\n",
              "    </tr>\n",
              "    <tr>\n",
              "      <th>5</th>\n",
              "      <td>3</td>\n",
              "      <td>0</td>\n",
              "    </tr>\n",
              "  </tbody>\n",
              "</table>\n",
              "</div>"
            ],
            "text/plain": [
              "   Actual  Predicted\n",
              "0       1          1\n",
              "1       0          3\n",
              "2       0          0\n",
              "3       0          1\n",
              "4       2          2\n",
              "5       3          0"
            ]
          },
          "metadata": {
            "tags": []
          },
          "execution_count": 31
        }
      ]
    },
    {
      "cell_type": "code",
      "metadata": {
        "id": "8oKgNKrfJzJ4",
        "colab_type": "code",
        "colab": {}
      },
      "source": [
        "#compute the cross tabulation of two columns\n",
        "cm = pd.crosstab(df['Actual'], df['Predicted'], rownames=['Actual'], colnames=['Predicted'])"
      ],
      "execution_count": 0,
      "outputs": []
    },
    {
      "cell_type": "code",
      "metadata": {
        "id": "_mfvfDg4gwiT",
        "colab_type": "code",
        "outputId": "1f088b80-a4cc-47cd-a1f7-81f123a590b5",
        "colab": {
          "base_uri": "https://localhost:8080/",
          "height": 195
        }
      },
      "source": [
        "cm"
      ],
      "execution_count": 0,
      "outputs": [
        {
          "output_type": "execute_result",
          "data": {
            "text/html": [
              "<div>\n",
              "<style scoped>\n",
              "    .dataframe tbody tr th:only-of-type {\n",
              "        vertical-align: middle;\n",
              "    }\n",
              "\n",
              "    .dataframe tbody tr th {\n",
              "        vertical-align: top;\n",
              "    }\n",
              "\n",
              "    .dataframe thead th {\n",
              "        text-align: right;\n",
              "    }\n",
              "</style>\n",
              "<table border=\"1\" class=\"dataframe\">\n",
              "  <thead>\n",
              "    <tr style=\"text-align: right;\">\n",
              "      <th>Predicted</th>\n",
              "      <th>0</th>\n",
              "      <th>1</th>\n",
              "      <th>2</th>\n",
              "      <th>3</th>\n",
              "    </tr>\n",
              "    <tr>\n",
              "      <th>Actual</th>\n",
              "      <th></th>\n",
              "      <th></th>\n",
              "      <th></th>\n",
              "      <th></th>\n",
              "    </tr>\n",
              "  </thead>\n",
              "  <tbody>\n",
              "    <tr>\n",
              "      <th>0</th>\n",
              "      <td>1</td>\n",
              "      <td>1</td>\n",
              "      <td>0</td>\n",
              "      <td>1</td>\n",
              "    </tr>\n",
              "    <tr>\n",
              "      <th>1</th>\n",
              "      <td>0</td>\n",
              "      <td>1</td>\n",
              "      <td>0</td>\n",
              "      <td>0</td>\n",
              "    </tr>\n",
              "    <tr>\n",
              "      <th>2</th>\n",
              "      <td>0</td>\n",
              "      <td>0</td>\n",
              "      <td>1</td>\n",
              "      <td>0</td>\n",
              "    </tr>\n",
              "    <tr>\n",
              "      <th>3</th>\n",
              "      <td>1</td>\n",
              "      <td>0</td>\n",
              "      <td>0</td>\n",
              "      <td>0</td>\n",
              "    </tr>\n",
              "  </tbody>\n",
              "</table>\n",
              "</div>"
            ],
            "text/plain": [
              "Predicted  0  1  2  3\n",
              "Actual               \n",
              "0          1  1  0  1\n",
              "1          0  1  0  0\n",
              "2          0  0  1  0\n",
              "3          1  0  0  0"
            ]
          },
          "metadata": {
            "tags": []
          },
          "execution_count": 33
        }
      ]
    },
    {
      "cell_type": "code",
      "metadata": {
        "id": "o_3zIQQz9Ru_",
        "colab_type": "code",
        "colab": {}
      },
      "source": [
        "#here I'm converting the table form to array format\n",
        "cm = np.array(cm)"
      ],
      "execution_count": 0,
      "outputs": []
    },
    {
      "cell_type": "code",
      "metadata": {
        "id": "82BAsk6BL5uQ",
        "colab_type": "code",
        "outputId": "924ac477-46dd-4eeb-9018-dfc2e8a31dd8",
        "colab": {
          "base_uri": "https://localhost:8080/",
          "height": 87
        }
      },
      "source": [
        "cm"
      ],
      "execution_count": 0,
      "outputs": [
        {
          "output_type": "execute_result",
          "data": {
            "text/plain": [
              "array([[1, 1, 0, 1],\n",
              "       [0, 1, 0, 0],\n",
              "       [0, 0, 1, 0],\n",
              "       [1, 0, 0, 0]])"
            ]
          },
          "metadata": {
            "tags": []
          },
          "execution_count": 35
        }
      ]
    },
    {
      "cell_type": "markdown",
      "metadata": {
        "id": "vOgDFQS7hYJr",
        "colab_type": "text"
      },
      "source": [
        "**TP(True Positive)**--- It is the diagonal values in the Confusion Matrix.\n",
        "\n",
        "**FP(False Positive)**--- It is the sum of the columns of the particular class except the True Positive(TP).\n",
        "\n",
        "**FN(False Negative)**---It is the sum of the rows of the particular class except the True Positive(TP).\n",
        "\n",
        "**TN(True Negative)**---The sum of all the values in the matrix except the values in the row and column of a particular class.\n"
      ]
    },
    {
      "cell_type": "code",
      "metadata": {
        "id": "opm1QkLLhByV",
        "colab_type": "code",
        "colab": {}
      },
      "source": [
        "FP = cm.sum(axis=0) - np.diag(cm)  \n",
        "TP = np.diag(cm)\n",
        "FN = cm.sum(axis=1) - np.diag(cm)\n",
        "TN = cm.sum() - (FP + TP + FN)"
      ],
      "execution_count": 0,
      "outputs": []
    },
    {
      "cell_type": "code",
      "metadata": {
        "id": "HGsf6OjehRvy",
        "colab_type": "code",
        "outputId": "2479b898-c865-4946-bdd9-8cf0a6ca2341",
        "colab": {
          "base_uri": "https://localhost:8080/",
          "height": 87
        }
      },
      "source": [
        "#prints the 4 classes TP,FP,TN,FN\n",
        "print('TP:',TP,'\\nFP:',FP,'\\nTN:',TN,'\\nFN:',FN)"
      ],
      "execution_count": 0,
      "outputs": [
        {
          "output_type": "stream",
          "text": [
            "TP: [1 1 1 0] \n",
            "FP: [1 1 0 1] \n",
            "TN: [2 4 5 4] \n",
            "FN: [2 0 0 1]\n"
          ],
          "name": "stdout"
        }
      ]
    },
    {
      "cell_type": "markdown",
      "metadata": {
        "id": "IKhbInUpmTCJ",
        "colab_type": "text"
      },
      "source": [
        "**Precision** (is also called positive predictive value) is the fraction of relevant instances among the retrieved instances.\n",
        "(that is True Positive versus True Positive and False Positive).\n",
        "\n",
        "**Recall** (is also called as sensitivity or True Positive Rate) is the fraction of the total amount of relevant instances that were actually retrieved.\n",
        "(that is True Positive versus True Positive and False Negative)."
      ]
    },
    {
      "cell_type": "code",
      "metadata": {
        "id": "WZYoc-zZyM1t",
        "colab_type": "code",
        "colab": {}
      },
      "source": [
        "precision = TP/(TP + FP)\n",
        "recall = TP/(TP + FN)"
      ],
      "execution_count": 0,
      "outputs": []
    },
    {
      "cell_type": "code",
      "metadata": {
        "id": "wwK5kCqey4kd",
        "colab_type": "code",
        "outputId": "177dc0c1-434a-4f29-8f6d-d2ca2a3a25de",
        "colab": {
          "base_uri": "https://localhost:8080/",
          "height": 105
        }
      },
      "source": [
        "print('label \\tprecision \\trecall') #header\n",
        "for label in range(len(np.unique(df['Actual']))): #taken the length of a unique classes as labels\n",
        "  print(label,'\\t',round(precision[label],2),'\\t\\t',round(recall[label],2))"
      ],
      "execution_count": 0,
      "outputs": [
        {
          "output_type": "stream",
          "text": [
            "label \tprecision \trecall\n",
            "0 \t 0.5 \t\t 0.33\n",
            "1 \t 0.5 \t\t 1.0\n",
            "2 \t 1.0 \t\t 1.0\n",
            "3 \t 0.0 \t\t 0.0\n"
          ],
          "name": "stdout"
        }
      ]
    }
  ]
}