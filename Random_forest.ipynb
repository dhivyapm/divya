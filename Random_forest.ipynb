{
  "nbformat": 4,
  "nbformat_minor": 0,
  "metadata": {
    "colab": {
      "name": "Random-forest.ipynb",
      "provenance": [],
      "include_colab_link": true
    },
    "kernelspec": {
      "name": "python3",
      "display_name": "Python 3"
    }
  },
  "cells": [
    {
      "cell_type": "markdown",
      "metadata": {
        "id": "view-in-github",
        "colab_type": "text"
      },
      "source": [
        "<a href=\"https://colab.research.google.com/github/dhivyapm/divya/blob/master/Random_forest.ipynb\" target=\"_parent\"><img src=\"https://colab.research.google.com/assets/colab-badge.svg\" alt=\"Open In Colab\"/></a>"
      ]
    },
    {
      "cell_type": "markdown",
      "metadata": {
        "id": "Y47GXRzCBSVH",
        "colab_type": "text"
      },
      "source": [
        "I found the information about how the model works in this website\n",
        "https://medium.com/coinmonks/what-is-entropy-and-why-information-gain-is-matter-4e85d46d2f01"
      ]
    },
    {
      "cell_type": "code",
      "metadata": {
        "id": "LNo3_kZRoiHo",
        "colab_type": "code",
        "colab": {
          "resources": {
            "http://localhost:8080/nbextensions/google.colab/files.js": {
              "data": "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",
              "ok": true,
              "headers": [
                [
                  "content-type",
                  "application/javascript"
                ]
              ],
              "status": 200,
              "status_text": ""
            }
          },
          "base_uri": "https://localhost:8080/",
          "height": 75
        },
        "outputId": "7f57d7df-a0b6-45ab-9b19-3fddbb27e339"
      },
      "source": [
        "from google.colab import files\n",
        "upload = files.upload()"
      ],
      "execution_count": 5,
      "outputs": [
        {
          "output_type": "display_data",
          "data": {
            "text/html": [
              "\n",
              "     <input type=\"file\" id=\"files-e2438bb3-79a7-472f-826a-3156026bb834\" name=\"files[]\" multiple disabled />\n",
              "     <output id=\"result-e2438bb3-79a7-472f-826a-3156026bb834\">\n",
              "      Upload widget is only available when the cell has been executed in the\n",
              "      current browser session. Please rerun this cell to enable.\n",
              "      </output>\n",
              "      <script src=\"/nbextensions/google.colab/files.js\"></script> "
            ],
            "text/plain": [
              "<IPython.core.display.HTML object>"
            ]
          },
          "metadata": {
            "tags": []
          }
        },
        {
          "output_type": "stream",
          "text": [
            "Saving satelite.csv to satelite.csv\n"
          ],
          "name": "stdout"
        }
      ]
    },
    {
      "cell_type": "code",
      "metadata": {
        "id": "s2n8BFeoBPzZ",
        "colab_type": "code",
        "outputId": "5c00abc1-07a6-4f33-fc3c-986acd7249a2",
        "colab": {
          "base_uri": "https://localhost:8080/",
          "height": 34
        }
      },
      "source": [
        "import pandas as pd # to read the dataset and convert the dataset to DataFrame which is in table format\n",
        "import numpy as np # numpy is for computing, here I'm using this package for randomly select the rows from the dataset\n",
        "import random # to randomly select the datapoints from dataset\n",
        "df = pd.read_csv('/content/satelite.csv')\n",
        "print(df.shape)"
      ],
      "execution_count": 6,
      "outputs": [
        {
          "output_type": "stream",
          "text": [
            "(6435, 37)\n"
          ],
          "name": "stdout"
        }
      ]
    },
    {
      "cell_type": "code",
      "metadata": {
        "id": "OAuQ7hcqAwSX",
        "colab_type": "code",
        "outputId": "89af7177-2bec-4479-f545-46bc949f841f",
        "colab": {
          "base_uri": "https://localhost:8080/",
          "height": 34
        }
      },
      "source": [
        "features = ['Column17','Column18','Column19','Column20']\n",
        "random.seed(30) # If you want to generate the same number every time,before doing the shuffle\n",
        "df = df.sample(frac=1)# shuffle the dataset\n",
        "df.shape"
      ],
      "execution_count": 11,
      "outputs": [
        {
          "output_type": "execute_result",
          "data": {
            "text/plain": [
              "(6435, 37)"
            ]
          },
          "metadata": {
            "tags": []
          },
          "execution_count": 11
        }
      ]
    },
    {
      "cell_type": "code",
      "metadata": {
        "id": "Gq1Ic6BtAysH",
        "colab_type": "code",
        "outputId": "7defbf52-73a6-454e-c335-e9d49fcc736d",
        "colab": {
          "base_uri": "https://localhost:8080/",
          "height": 263
        }
      },
      "source": [
        "#train_test_Split\n",
        "train_size = int(0.9 * len(df)) #train_size =5791\n",
        "X_train = df[features][:train_size] # X_train takes the values of the columns from 1 to 36 from the dataset upto the train_size rows(5791 rows)\n",
        "y_train = df['Column37'][:train_size] #y_train takes the last column values which is label upto the train_size(5791 rows)\n",
        "X_test = df[features][train_size:] # X_test takes the values of the columns from 1 to 36 starting from rows 5791 upto the dataset length which is 6435\n",
        "y_test = df['Column37'][train_size:] # y_test takes the last column values which is label starting from rows 5791 upto the dataset length which is 6435\n",
        "print(X_train)"
      ],
      "execution_count": 12,
      "outputs": [
        {
          "output_type": "stream",
          "text": [
            "      Column17  Column18  Column19  Column20\n",
            "474         47        31       131       142\n",
            "3789        72        85        94        79\n",
            "3255        74        79        84        66\n",
            "4638        57        55        78        72\n",
            "551         78        91        96        78\n",
            "...        ...       ...       ...       ...\n",
            "33          79       107       109        87\n",
            "3873        67        72        70        50\n",
            "6217        63        79        85        80\n",
            "6379        88       103       113        92\n",
            "30          68        75        79        67\n",
            "\n",
            "[5791 rows x 4 columns]\n"
          ],
          "name": "stdout"
        }
      ]
    },
    {
      "cell_type": "code",
      "metadata": {
        "id": "JnuCTgOoA47O",
        "colab_type": "code",
        "colab": {}
      },
      "source": [
        "#calculating the bootstrap that is taking sample from train set and left out samples in dataset will be taken as out-of-bag which is used to test the model performance\n",
        "def n_bootstrap(X_train, y_train):\n",
        "    bootstrap_indices = list(np.random.choice(range(len(X_train)), len(X_train), replace = True)) #it as the index of the sample selected from the training set\n",
        "    oob_indices = [i for i in range(len(X_train)) if i not in bootstrap_indices] # it as the index of the left over samples in the training set\n",
        "    X_bootstrap = X_train.iloc[bootstrap_indices].values # here it takes the values of the specific index from the training\n",
        "    y_bootstrap = y_train.iloc[bootstrap_indices].values # it takes the array elements of the specific indices(labels)\n",
        "    X_oob = X_train.iloc[oob_indices].values # it takes the values of the left over samples in the training set\n",
        "    y_oob = y_train.iloc[oob_indices].values # it takes the array elements from the left over samples in the training set(labels)\n",
        "    return X_bootstrap, y_bootstrap, X_oob, y_oob # returns all the values of bootstrap and oob"
      ],
      "execution_count": 0,
      "outputs": []
    },
    {
      "cell_type": "code",
      "metadata": {
        "id": "ph2oTrg3Asbv",
        "colab_type": "code",
        "outputId": "f3d375c2-1e9d-455d-a931-e9692a1e3bb0",
        "colab": {
          "base_uri": "https://localhost:8080/",
          "height": 351
        }
      },
      "source": [
        "X_bootstrap,y_bootstrap,X_oob,y_oob = n_bootstrap(X_train,y_train)\n",
        "print('X_bootstrap:\\n',X_bootstrap,'\\ny_bootstrap:\\n',y_bootstrap)\n",
        "print('X_oob:\\n',X_oob,'\\ny_oob:',y_oob)"
      ],
      "execution_count": 39,
      "outputs": [
        {
          "output_type": "stream",
          "text": [
            "X_bootstrap:\n",
            " [[ 63  79  85  80]\n",
            " [101 116 122  96]\n",
            " [ 75  88  90  72]\n",
            " ...\n",
            " [ 74  87  92  66]\n",
            " [ 59  51  79  72]\n",
            " [ 71 111 118  96]] \n",
            "y_bootstrap:\n",
            " [1 3 4 ... 4 5 1]\n",
            "X_oob:\n",
            " [[ 74  79  84  66]\n",
            " [ 57  55  78  72]\n",
            " [ 78  91  96  78]\n",
            " ...\n",
            " [ 86 109 112  89]\n",
            " [ 67  66  72  53]\n",
            " [ 47  37 111 105]] \n",
            "y_oob: [7 5 4 ... 4 7 2]\n"
          ],
          "name": "stdout"
        }
      ]
    },
    {
      "cell_type": "code",
      "metadata": {
        "id": "8BJA7NbiA8-I",
        "colab_type": "code",
        "colab": {}
      },
      "source": [
        "# calculate the Entropy(measure of disorder)\n",
        "#To which group does this sample belongs to\n",
        "#Entropy controls how a Decision Tree decides to split the data.\n",
        "#where entropy takes in a probability of a class within a node \n",
        "def entropy(p):\n",
        "    if p == 0:\n",
        "        return 0\n",
        "    elif p == 1:\n",
        "        return 0\n",
        "    else:\n",
        "        return  - (p * np.log2(p) + (1 - p) * np.log2(1-p))\n",
        "         # these formula provided in these https://medium.com/coinmonks/what-is-entropy-and-why-information-gain-is-matter-4e85d46d2f01\n",
        "         # in that they clearly explained the concept of entropy and Information-Gain"
      ],
      "execution_count": 0,
      "outputs": []
    },
    {
      "cell_type": "code",
      "metadata": {
        "id": "dIwXObMKBB4l",
        "colab_type": "code",
        "colab": {}
      },
      "source": [
        "#calculate the information gain to compare the entropy before and after split\n",
        "#Information_gain takes in a list of the classes from the left and right child and returns the information gain of that particular split.\n",
        "def information_gain(left_child, right_child):\n",
        "    parent = left_child + right_child\n",
        "    p_parent = parent.count(1) / len(parent) if len(parent) > 0 else 0\n",
        "    p_left = left_child.count(1) / len(left_child) if len(left_child) > 0 else 0\n",
        "    p_right = right_child.count(1) / len(right_child) if len(right_child) > 0 else 0\n",
        "    IG_p = entropy(p_parent) #calculate the entropy of parent node\n",
        "    IG_l = entropy(p_left) #calculate the entropy of left child node\n",
        "    IG_r = entropy(p_right) #calculate the entropy of right child node\n",
        "    return IG_p - len(left_child) / len(parent) * IG_l - len(right_child) / len(parent) * IG_r #return the information gain of parent and childs"
      ],
      "execution_count": 0,
      "outputs": []
    },
    {
      "cell_type": "code",
      "metadata": {
        "id": "CN6z63wOBJ4C",
        "colab_type": "code",
        "colab": {}
      },
      "source": [
        "#function for finding the split point for the decision-tree based on the highest information gain\n",
        "#select random features from the bootstrap \n",
        "#for each feature selected, iterate through each value in the X_bootstrap and compute the information gain\n",
        "#Return a array of values that gives the highest information gain, which will represent a node in a tree consist of \n",
        "#index of the feature,split-value,left-child and right-child node.\n",
        "def find_split_point(X_bootstrap, y_bootstrap, max_features):\n",
        "    feature_ls = list()\n",
        "    num_features = len(X_bootstrap[0])\n",
        "    \n",
        "    while len(feature_ls) <= max_features:\n",
        "        feature_idx = random.sample(range(num_features), 1)\n",
        "        if feature_idx not in feature_ls:\n",
        "            feature_ls.extend(feature_idx)\n",
        "    \n",
        "    best_info_gain = -999\n",
        "    node = None\n",
        "    for feature_idx in feature_ls:\n",
        "        for split_point in X_bootstrap[:,feature_idx]:\n",
        "            left_child = {'X_bootstrap': [], 'y_bootstrap': []}\n",
        "            right_child = {'X_bootstrap': [], 'y_bootstrap': []}\n",
        "            \n",
        "            # split children for continuous variables\n",
        "            if type(split_point) in [int, float]:\n",
        "                for i, value in enumerate(X_bootstrap[:,feature_idx]):\n",
        "                    if value <= split_point:\n",
        "                        left_child['X_bootstrap'].append(X_bootstrap[i])\n",
        "                        left_child['y_bootstrap'].append(y_bootstrap[i])\n",
        "                    else:\n",
        "                        right_child['X_bootstrap'].append(X_bootstrap[i])\n",
        "                        right_child['y_bootstrap'].append(y_bootstrap[i])\n",
        "                  # split children for categoric variables\n",
        "            else:\n",
        "                for i, value in enumerate(X_bootstrap[:,feature_idx]):\n",
        "                    if value == split_point:\n",
        "                        left_child['X_bootstrap'].append(X_bootstrap[i])\n",
        "                        left_child['y_bootstrap'].append(y_bootstrap[i])\n",
        "                    else:\n",
        "                        right_child['X_bootstrap'].append(X_bootstrap[i])\n",
        "                        right_child['y_bootstrap'].append(y_bootstrap[i])\n",
        "                \n",
        "            split_info_gain = information_gain(left_child['y_bootstrap'], right_child['y_bootstrap'])\n",
        "            if split_info_gain > best_info_gain:\n",
        "                best_info_gain = split_info_gain\n",
        "                left_child['X_bootstrap'] = np.array(left_child['X_bootstrap'])\n",
        "                right_child['X_bootstrap'] = np.array(right_child['X_bootstrap'])\n",
        "                node = {'information_gain': split_info_gain, \n",
        "                        'left_child': left_child, \n",
        "                        'right_child': right_child, \n",
        "                        'split_point': split_point,\n",
        "                        'feature_idx': feature_idx}\n",
        "                \n",
        "    \n",
        "    return node            "
      ],
      "execution_count": 0,
      "outputs": []
    },
    {
      "cell_type": "code",
      "metadata": {
        "id": "J2zcX9mYqYQ1",
        "colab_type": "code",
        "colab": {}
      },
      "source": [
        "node = find_split_point(X_bootstrap,y_bootstrap,max_features=2)"
      ],
      "execution_count": 0,
      "outputs": []
    },
    {
      "cell_type": "code",
      "metadata": {
        "id": "JTDrP-qPqcWv",
        "colab_type": "code",
        "colab": {
          "base_uri": "https://localhost:8080/",
          "height": 178
        },
        "outputId": "236c0a28-3a9d-4233-bcab-73b123eb9ade"
      },
      "source": [
        "np.array(node['right_child'])"
      ],
      "execution_count": 53,
      "outputs": [
        {
          "output_type": "execute_result",
          "data": {
            "text/plain": [
              "array({'X_bootstrap': array([[ 63,  79,  85,  80],\n",
              "       [ 75,  88,  90,  72],\n",
              "       [ 56,  49, 108, 100],\n",
              "       ...,\n",
              "       [ 88, 103, 108,  81],\n",
              "       [ 74,  87,  92,  66],\n",
              "       [ 59,  51,  79,  72]]), 'y_bootstrap': [1, 4, 2, 5, 1, 4, 1, 5, 5, 3, 4, 7, 3, 7, 7, 1, 2, 1, 3, 3, 1, 5, 3, 3, 7, 4, 2, 5, 1, 5, 7, 3, 7, 5, 2, 5, 3, 7, 3, 2, 1, 3, 3, 3, 7, 3, 3, 5, 7, 1, 5, 3, 3, 7, 1, 7, 4, 7, 1, 5, 3, 1, 7, 1, 3, 7, 5, 1, 1, 7, 3, 3, 7, 3, 2, 1, 2, 7, 3, 2, 4, 1, 1, 1, 5, 5, 7, 7, 5, 1, 3, 3, 1, 4, 4, 1, 1, 4, 1, 2, 5, 1, 3, 5, 3, 5, 1, 2, 7, 2, 3, 3, 7, 2, 1, 2, 1, 7, 2, 7, 3, 7, 5, 1, 4, 1, 5, 1, 7, 2, 3, 3, 2, 7, 2, 3, 3, 2, 2, 7, 4, 1, 4, 7, 5, 3, 7, 4, 1, 5, 2, 2, 1, 1, 4, 4, 3, 2, 5, 3, 4, 4, 7, 4, 4, 1, 3, 7, 3, 7, 7, 3, 7, 5, 7, 7, 7, 7, 1, 1, 2, 4, 2, 2, 7, 3, 3, 1, 2, 3, 2, 3, 1, 1, 3, 7, 7, 1, 3, 1, 4, 3, 1, 3, 4, 1, 4, 7, 2, 2, 5, 1, 7, 3, 7, 5, 1, 4, 7, 1, 7, 7, 5, 7, 3, 4, 4, 5, 3, 7, 5, 5, 1, 1, 7, 4, 1, 7, 7, 4, 7, 3, 2, 3, 2, 1, 3, 2, 1, 3, 4, 7, 5, 5, 3, 7, 7, 7, 7, 1, 1, 3, 4, 7, 1, 3, 4, 1, 1, 1, 7, 3, 7, 1, 5, 5, 1, 3, 5, 1, 7, 2, 5, 7, 7, 1, 7, 1, 1, 3, 4, 1, 4, 3, 5, 5, 4, 5, 1, 3, 1, 7, 3, 5, 3, 7, 3, 5, 7, 1, 4, 5, 1, 7, 1, 3, 3, 7, 7, 1, 7, 1, 1, 3, 7, 3, 7, 7, 4, 7, 2, 2, 2, 7, 4, 1, 1, 1, 7, 3, 7, 7, 3, 3, 5, 2, 7, 1, 7, 3, 4, 1, 1, 1, 2, 3, 2, 7, 2, 5, 1, 3, 3, 3, 5, 3, 7, 3, 3, 1, 3, 1, 3, 2, 2, 7, 3, 1, 1, 2, 3, 4, 4, 7, 1, 2, 7, 7, 2, 5, 1, 1, 7, 7, 5, 1, 1, 7, 4, 1, 1, 2, 1, 7, 1, 2, 4, 3, 5, 1, 3, 3, 1, 7, 5, 2, 3, 3, 3, 2, 4, 1, 7, 5, 7, 7, 1, 4, 3, 7, 2, 7, 7, 7, 1, 7, 7, 5, 3, 7, 1, 7, 7, 1, 5, 7, 3, 2, 4, 3, 2, 1, 7, 1, 7, 7, 1, 3, 7, 1, 1, 3, 3, 4, 7, 4, 1, 7, 7, 1, 3, 7, 7, 1, 5, 1, 7, 2, 3, 3, 3, 3, 3, 1, 3, 1, 7, 3, 2, 7, 7, 3, 7, 3, 7, 1, 1, 1, 4, 1, 1, 2, 7, 1, 3, 1, 5, 1, 1, 1, 2, 7, 7, 7, 7, 7, 3, 4, 3, 1, 5, 2, 5, 3, 2, 1, 2, 7, 1, 3, 2, 2, 5, 3, 3, 1, 7, 5, 7, 7, 3, 2, 1, 5, 3, 1, 1, 7, 3, 2, 2, 3, 2, 7, 1, 7, 1, 1, 1, 7, 1, 5, 7, 7, 1, 7, 1, 1, 4, 1, 2, 7, 3, 2, 7, 3, 5, 3, 2, 2, 1, 3, 5, 7, 1, 2, 3, 4, 2, 2, 3, 3, 3, 3, 2, 5, 1, 4, 7, 1, 1, 5, 2, 3, 7, 1, 7, 7, 4, 7, 7, 3, 3, 3, 7, 7, 2, 5, 4, 3, 5, 7, 3, 7, 2, 3, 7, 1, 5, 2, 2, 5, 4, 7, 3, 7, 4, 7, 1, 1, 1, 5, 7, 1, 4, 3, 7, 1, 1, 5, 3, 3, 1, 7, 5, 1, 7, 2, 7, 3, 1, 7, 2, 3, 3, 2, 7, 7, 3, 5, 7, 4, 3, 7, 3, 7, 4, 3, 4, 7, 7, 7, 7, 1, 7, 3, 1, 4, 1, 3, 5, 7, 2, 5, 7, 3, 3, 2, 1, 1, 1, 7, 7, 3, 1, 1, 5, 7, 2, 4, 7, 3, 5, 7, 3, 5, 7, 5, 3, 3, 7, 7, 1, 1, 1, 1, 1, 7, 3, 1, 5, 7, 7, 7, 1, 3, 3, 1, 4, 1, 7, 3, 3, 7, 7, 7, 5, 3, 2, 3, 4, 1, 5, 2, 7, 1, 1, 3, 2, 1, 4, 7, 1, 2, 3, 1, 7, 2, 7, 4, 7, 3, 1, 5, 3, 1, 1, 3, 2, 1, 3, 1, 7, 3, 1, 5, 5, 1, 7, 4, 2, 7, 7, 1, 1, 7, 7, 5, 3, 1, 1, 4, 5, 1, 2, 5, 3, 2, 7, 7, 1, 1, 1, 3, 7, 3, 3, 1, 7, 3, 1, 3, 1, 3, 1, 3, 3, 4, 5, 5, 3, 1, 7, 1, 2, 1, 1, 5, 1, 3, 2, 3, 7, 1, 3, 1, 7, 1, 7, 3, 3, 1, 3, 1, 7, 1, 1, 7, 2, 4, 7, 1, 2, 2, 7, 5, 2, 7, 7, 3, 4, 1, 3, 2, 1, 7, 1, 1, 7, 7, 7, 3, 4, 7, 1, 2, 3, 2, 3, 5, 3, 7, 1, 3, 3, 4, 7, 1, 3, 5, 1, 3, 1, 5, 1, 2, 3, 7, 5, 2, 5, 1, 3, 3, 5, 2, 2, 1, 3, 5, 2, 3, 3, 3, 1, 7, 5, 5, 3, 7, 5, 5, 3, 3, 7, 7, 1, 5, 7, 7, 7, 7, 4, 4, 3, 4, 1, 3, 2, 3, 1, 7, 3, 3, 7, 7, 7, 7, 7, 3, 1, 7, 1, 1, 4, 1, 4, 3, 7, 4, 5, 7, 1, 7, 7, 2, 5, 2, 7, 3, 2, 3, 2, 7, 2, 5, 5, 3, 4, 5, 1, 1, 3, 7, 1, 4, 7, 7, 7, 1, 3, 1, 3, 1, 3, 3, 7, 1, 1, 2, 2, 3, 5, 3, 3, 5, 1, 4, 7, 7, 4, 5, 2, 3, 1, 1, 7, 3, 4, 3, 7, 7, 7, 5, 1, 7, 2, 4, 1, 1, 5, 5, 5, 1, 7, 1, 2, 7, 1, 4, 4, 5, 7, 3, 3, 3, 2, 5, 1, 3, 2, 1, 3, 3, 3, 1, 1, 3, 5, 4, 3, 7, 4, 3, 1, 3, 3, 5, 7, 1, 3, 3, 5, 1, 7, 2, 7, 3, 5, 1, 1, 4, 3, 1, 3, 7, 5, 3, 1, 4, 1, 7, 7, 5, 1, 2, 3, 3, 7, 1, 7, 7, 2, 1, 5, 5, 7, 7, 1, 7, 3, 5, 7, 1, 7, 1, 3, 1, 7, 5, 1, 3, 3, 7, 3, 1, 4, 1, 7, 2, 5, 2, 2, 1, 2, 7, 1, 4, 2, 7, 2, 5, 7, 2, 7, 3, 3, 7, 5, 7, 1, 3, 7, 2, 1, 3, 5, 1, 3, 7, 4, 7, 2, 7, 4, 3, 5, 4, 3, 5, 2, 1, 1, 5, 5, 2, 1, 4, 1, 2, 2, 4, 7, 2, 1, 7, 4, 7, 5, 7, 2, 3, 3, 2, 3, 4, 7, 1, 2, 1, 1, 7, 7, 7, 4, 3, 1, 5, 5, 7, 1, 2, 1, 3, 3, 7, 1, 2, 4, 1, 5, 7, 1, 3, 3, 1, 3, 1, 2, 7, 5, 2, 3, 3, 1, 3, 5, 4, 1, 7, 5, 7, 3, 4, 3, 5, 2, 4, 7, 3, 7, 7, 4, 5, 1, 4, 2, 4, 4, 5, 7, 3, 3, 4, 1, 3, 2, 3, 4, 3, 5, 3, 4, 1, 2, 5, 2, 1, 5, 1, 3, 3, 4, 5, 3, 5, 3, 1, 1, 1, 7, 3, 3, 2, 7, 2, 4, 3, 1, 4, 7, 3, 1, 7, 2, 3, 1, 2, 2, 7, 5, 1, 3, 3, 5, 2, 1, 1, 1, 3, 7, 2, 3, 1, 1, 7, 4, 1, 2, 2, 7, 5, 1, 1, 1, 7, 2, 5, 1, 3, 4, 7, 7, 4, 5, 3, 1, 5, 1, 1, 3, 4, 5, 7, 3, 1, 1, 7, 7, 1, 7, 2, 7, 2, 1, 1, 1, 3, 4, 5, 4, 7, 1, 2, 3, 5, 3, 2, 7, 4, 7, 2, 7, 1, 5, 3, 4, 3, 2, 5, 2, 1, 5, 3, 3, 4, 7, 2, 7, 7, 3, 7, 5, 1, 7, 4, 3, 2, 7, 7, 7, 1, 1, 1, 7, 7, 1, 1, 7, 1, 3, 4, 3, 7, 2, 7, 2, 3, 7, 3, 2, 4, 4, 4, 1, 5, 7, 5, 5, 1, 1, 1, 1, 3, 5, 3, 4, 3, 5, 3, 3, 5, 3, 7, 2, 7, 1, 7, 7, 3, 7, 4, 3, 4, 7, 3, 1, 1, 1, 1, 7, 7, 1, 2, 4, 1, 7, 5, 1, 2, 5, 1, 3, 3, 3, 2, 1, 3, 2, 7, 2, 7, 2, 1, 3, 7, 3, 3, 7, 7, 3, 3, 7, 2, 1, 3, 1, 2, 7, 3, 3, 1, 1, 4, 7, 4, 1, 7, 7, 4, 7, 5, 7, 3, 5, 3, 3, 3, 1, 3, 5, 3, 7, 5, 7, 2, 1, 2, 1, 7, 1, 5, 3, 1, 5, 3, 1, 7, 1, 4, 4, 1, 3, 5, 7, 1, 2, 7, 7, 1, 3, 1, 1, 3, 7, 3, 5, 5, 7, 7, 3, 1, 1, 4, 1, 3, 4, 7, 4, 1, 3, 5, 4, 7, 3, 1, 5, 7, 7, 3, 3, 2, 3, 1, 5, 1, 2, 3, 1, 1, 7, 3, 1, 7, 2, 3, 2, 1, 2, 2, 1, 1, 1, 3, 7, 5, 7, 7, 3, 7, 7, 3, 4, 4, 7, 1, 2, 7, 2, 7, 3, 4, 2, 2, 7, 2, 7, 4, 3, 7, 7, 7, 4, 1, 7, 2, 7, 1, 7, 3, 7, 4, 2, 7, 1, 7, 5, 4, 3, 1, 3, 7, 2, 2, 4, 1, 5, 1, 7, 5, 7, 4, 5, 3, 5, 5, 1, 3, 3, 3, 1, 2, 1, 1, 1, 7, 3, 7, 2, 3, 3, 2, 2, 3, 3, 1, 3, 7, 2, 3, 2, 3, 4, 2, 2, 3, 1, 4, 7, 5, 4, 1, 7, 3, 3, 7, 3, 1, 5, 2, 4, 7, 5, 5, 4, 7, 3, 7, 1, 1, 3, 7, 7, 1, 7, 7, 5, 1, 2, 7, 3, 3, 2, 1, 2, 3, 4, 7, 5, 7, 1, 7, 3, 5, 7, 1, 3, 4, 7, 5, 7, 3, 2, 3, 2, 1, 2, 7, 3, 3, 1, 1, 7, 2, 3, 1, 1, 1, 7, 4, 7, 3, 5, 1, 3, 4, 3, 2, 1, 1, 7, 3, 3, 1, 7, 1, 5, 3, 7, 1, 3, 7, 7, 7, 1, 7, 5, 4, 5, 7, 3, 5, 1, 4, 7, 1, 7, 1, 1, 4, 3, 3, 1, 1, 3, 7, 4, 1, 4, 2, 2, 7, 3, 7, 3, 2, 4, 5, 2, 1, 3, 1, 7, 4, 1, 1, 2, 7, 1, 1, 7, 5, 3, 3, 4, 7, 2, 7, 7, 1, 7, 7, 3, 7, 5, 5, 3, 7, 1, 2, 1, 4, 1, 7, 1, 1, 3, 7, 3, 7, 3, 5, 7, 1, 2, 1, 1, 2, 1, 1, 7, 7, 1, 1, 1, 7, 3, 1, 4, 2, 7, 1, 1, 1, 3, 3, 7, 1, 7, 1, 7, 7, 7, 3, 1, 5, 5, 3, 1, 3, 2, 2, 2, 7, 4, 2, 5, 5, 2, 3, 2, 2, 3, 1, 2, 2, 7, 7, 7, 5, 1, 7, 7, 1, 3, 1, 3, 3, 7, 7, 7, 4, 2, 3, 7, 7, 7, 2, 2, 1, 2, 1, 1, 3, 3, 3, 3, 1, 5, 7, 3, 2, 5, 7, 1, 1, 1, 5, 1, 3, 5, 4, 4, 2, 2, 4, 4, 2, 1, 1, 1, 4, 2, 1, 4, 4, 2, 7, 3, 1, 3, 3, 5, 7, 7, 3, 4, 4, 1, 5, 7, 3, 7, 5, 2, 1, 7, 2, 1, 5, 1, 1, 4, 5, 5, 3, 4, 3, 7, 7, 4, 7, 3, 3, 5, 1, 7, 1, 7, 1, 1, 7, 7, 1, 7, 3, 3, 1, 3, 4, 7, 7, 7, 1, 2, 7, 1, 1, 7, 7, 3, 7, 4, 3, 5, 3, 4, 2, 7, 3, 7, 5, 1, 1, 7, 7, 3, 3, 3, 1, 3, 5, 3, 1, 1, 5, 1, 3, 1, 3, 7, 1, 1, 2, 4, 1, 2, 7, 3, 4, 4, 3, 7, 3, 5, 4, 5, 5, 4, 1, 5, 1, 2, 2, 1, 2, 3, 1, 4, 2, 5, 1, 1, 1, 7, 1, 5, 7, 7, 7, 5, 2, 7, 7, 7, 4, 4, 3, 4, 1, 7, 3, 1, 7, 7, 1, 4, 7, 7, 3, 7, 1, 2, 2, 3, 3, 2, 5, 1, 7, 1, 1, 7, 7, 1, 2, 7, 3, 2, 3, 7, 1, 5, 2, 3, 5, 5, 5, 5, 2, 1, 4, 5, 7, 2, 3, 7, 2, 3, 2, 7, 7, 3, 5, 7, 2, 1, 7, 7, 3, 1, 1, 7, 1, 1, 7, 1, 4, 2, 7, 3, 2, 3, 2, 2, 3, 3, 1, 5, 1, 1, 1, 1, 1, 4, 4, 3, 1, 4, 4, 5, 1, 5, 3, 7, 7, 3, 3, 7, 7, 3, 7, 2, 5, 5, 1, 5, 7, 3, 5, 5, 3, 2, 4, 7, 4, 4, 4, 5, 5, 2, 7, 5, 2, 3, 4, 5, 2, 4, 1, 3, 2, 3, 1, 4, 1, 7, 4, 7, 3, 1, 5, 3, 1, 7, 7, 2, 1, 7, 5, 7, 2, 2, 7, 7, 2, 1, 7, 3, 7, 7, 7, 1, 5, 1, 3, 7, 4, 1, 5, 1, 2, 3, 3, 2, 5, 7, 3, 1, 1, 1, 7, 7, 7, 3, 1, 3, 7, 3, 2, 7, 3, 1, 2, 3, 7, 2, 2, 3, 5, 1, 5, 4, 3, 5, 2, 3, 1, 1, 1, 7, 4, 3, 2, 4, 2, 1, 2, 3, 7, 4, 1, 1, 1, 3, 1, 3, 4, 3, 4, 2, 7, 3, 5, 2, 1, 3, 7, 1, 1, 7, 4, 2, 5, 7, 1, 7, 2, 7, 7, 7, 4, 1, 3, 2, 4, 7, 5, 3, 3, 4, 2, 1, 7, 1, 7, 7, 5, 1, 4, 7, 2, 1, 4, 3, 1, 5, 7, 3, 7, 5, 7, 1, 2, 3, 5, 1, 3, 7, 7, 4, 2, 3, 1, 1, 1, 1, 2, 4, 3, 3, 1, 3, 7, 1, 7, 3, 5, 1, 3, 1, 7, 4, 4, 1, 3, 4, 7, 4, 2, 5, 1, 1, 7, 4, 3, 1, 7, 1, 3, 5, 5, 2, 5, 1, 7, 7, 1, 7, 7, 1, 7, 3, 1, 4, 5, 3, 7, 5, 3, 7, 3, 2, 1, 7, 2, 1, 4, 7, 1, 2, 7, 3, 7, 5, 4, 2, 7, 1, 4, 7, 3, 5, 2, 1, 1, 3, 7, 7, 4, 5, 3, 1, 3, 3, 3, 7, 1, 7, 5, 5, 7, 4, 4, 7, 4, 3, 7, 7, 1, 1, 5, 3, 1, 4, 7, 5, 3, 7, 4, 3, 5, 7, 1, 1, 7, 3, 7, 4, 1, 2, 5, 3, 1, 7, 5, 1, 5, 1, 4, 3, 1, 3, 1, 5, 3, 7, 1, 1, 1, 7, 1, 3, 1, 1, 7, 1, 1, 2, 3, 1, 1, 1, 3, 3, 3, 7, 4, 2, 3, 3, 7, 3, 3, 7, 3, 7, 2, 1, 7, 5, 1, 2, 2, 2, 7, 7, 4, 1, 1, 7, 7, 4, 2, 7, 2, 3, 2, 1, 2, 5, 4, 1, 1, 4, 1, 3, 1, 4, 5, 7, 1, 5, 3, 1, 7, 5, 4, 5, 3, 3, 1, 5, 5, 7, 5, 3, 4, 3, 3, 3, 3, 1, 4, 7, 3, 7, 2, 1, 7, 7, 1, 7, 2, 7, 3, 7, 2, 7, 7, 7, 1, 3, 5, 4, 5, 3, 4, 7, 4, 4, 7, 3, 3, 7, 2, 1, 7, 3, 7, 2, 7, 1, 3, 5, 7, 7, 7, 3, 7, 7, 7, 4, 1, 5, 5, 1, 5, 7, 7, 3, 5, 1, 2, 7, 7, 3, 3, 7, 5, 2, 5, 7, 3, 7, 4, 4, 5, 4, 3, 3, 1, 2, 2, 3, 3, 1, 7, 1, 5, 7, 1, 3, 4, 4, 4, 7, 4, 7, 3, 7, 3, 7, 1, 1, 7, 7, 7, 7, 1, 4, 3, 4, 3, 7, 7, 2, 1, 4, 7, 3, 1, 2, 7, 5, 4, 7, 5, 7, 7, 1, 7, 4, 4, 7, 1, 5, 7, 7, 1, 2, 7, 5, 7, 5, 7, 4, 3, 5, 2, 3, 1, 4, 7, 1, 3, 3, 4, 5, 5, 5, 3, 7, 7, 2, 1, 3, 3, 3, 7, 3, 2, 3, 1, 1, 1, 3, 4, 3, 7, 4, 5, 2, 1, 4, 2, 2, 3, 2, 7, 7, 2, 3, 3, 7, 3, 4, 4, 7, 2, 1, 3, 1, 7, 7, 7, 1, 7, 3, 5, 1, 7, 2, 5, 1, 7, 4, 7, 3, 3, 7, 1, 3, 3, 7, 4, 3, 1, 5, 1, 3, 5, 7, 2, 1, 1, 1, 7, 3, 2, 1, 5, 7, 7, 7, 4, 7, 5, 2, 2, 3, 7, 1, 7, 3, 7, 4, 1, 1, 2, 3, 7, 1, 1, 2, 7, 2, 4, 2, 2, 5, 7, 1, 1, 3, 2, 1, 3, 7, 3, 7, 5, 3, 7, 3, 7, 4, 3, 7, 5, 1, 1, 1, 1, 1, 5, 1, 1, 5, 3, 7, 3, 1, 1, 1, 1, 5, 7, 3, 2, 3, 1, 7, 3, 2, 4, 3, 7, 1, 4, 3, 1, 4, 1, 7, 2, 5, 2, 1, 7, 1, 1, 7, 2, 4, 3, 7, 7, 7, 1, 3, 4, 3, 4, 7, 7, 7, 4, 7, 7, 3, 5, 4, 7, 2, 1, 1, 1, 3, 5, 2, 3, 5, 1, 1, 3, 5, 1, 7, 1, 3, 3, 7, 5, 3, 7, 1, 1, 5, 4, 7, 7, 4, 4, 5, 2, 2, 2, 1, 1, 3, 1, 7, 4, 7, 3, 7, 3, 3, 7, 3, 3, 1, 4, 3, 3, 7, 2, 7, 5, 7, 1, 3, 3, 7, 2, 1, 1, 1, 5, 1, 7, 1, 2, 3, 3, 3, 7, 7, 4, 1, 3, 4, 7, 7, 7, 5, 5, 3, 7, 5, 1, 5, 7, 3, 5, 5, 2, 5, 3, 2, 5, 1, 7, 7, 3, 1, 4, 7, 3, 3, 2, 7, 7, 7, 4, 1, 7, 7, 5, 7, 4, 1, 5, 3, 3, 7, 2, 5, 5, 1, 7, 1, 1, 3, 4, 1, 7, 3, 1, 1, 1, 7, 5, 3, 7, 7, 3, 7, 7, 2, 7, 3, 1, 5, 3, 1, 1, 1, 1, 3, 3, 5, 5, 4, 7, 7, 1, 1, 2, 3, 5, 4, 2, 2, 2, 7, 5, 7, 5, 7, 7, 1, 7, 1, 5, 3, 1, 5, 7, 7, 2, 7, 5, 3, 7, 1, 3, 7, 2, 7, 4, 3, 2, 7, 4, 1, 4, 1, 1, 5, 5, 7, 7, 1, 5, 1, 2, 2, 1, 3, 7, 3, 1, 2, 1, 3, 3, 1, 1, 7, 5, 5, 7, 2, 2, 5, 3, 1, 7, 3, 4, 2, 5, 2, 7, 1, 3, 7, 2, 7, 1, 2, 4, 5, 1, 7, 1, 7, 1, 2, 7, 1, 2, 4, 7, 7, 1, 7, 4, 7, 4, 3, 1, 7, 2, 2, 7, 4, 3, 3, 2, 3, 3, 3, 7, 7, 5, 5, 1, 1, 4, 4, 2, 2, 7, 5, 7, 1, 3, 4, 7, 4, 1, 1, 2, 2, 5, 4, 2, 3, 3, 7, 5, 3, 7, 3, 5, 2, 7, 3, 5, 5, 2, 5, 1, 3, 1, 7, 3, 4, 3, 3, 1, 1, 4, 3, 4, 4, 7, 7, 7, 7, 1, 1, 3, 3, 4, 7, 5, 1, 3, 1, 7, 3, 7, 7, 5, 2, 4, 1, 5, 7, 1, 1, 5, 1, 3, 7, 3, 1, 7, 5, 1, 3, 4, 4, 4, 1, 5, 7, 1, 7, 4, 7, 7, 1, 2, 3, 5, 2, 2, 4, 2, 7, 7, 1, 1, 1, 7, 3, 5, 4, 5, 7, 4, 7, 1, 1, 7, 4, 1, 1, 4, 7, 2, 3, 3, 3, 7, 7, 2, 4, 5, 2, 3, 4, 2, 1, 5, 1, 3, 4, 3, 1, 7, 5, 1, 7, 3, 1, 1, 4, 4, 2, 1, 2, 7, 3, 4, 3, 3, 3, 4, 1, 5, 5, 2, 7, 7, 7, 7, 3, 1, 7, 7, 5, 7, 7, 4, 3, 7, 5, 3, 3, 3, 1, 4, 1, 1, 7, 3, 7, 7, 3, 3, 4, 3, 7, 2, 3, 3, 2, 3, 3, 7, 5, 5, 3, 4, 5, 2, 7, 2, 4, 5, 5, 7, 3, 5, 1, 2, 4, 3, 2, 3, 5, 7, 1, 3, 1, 2, 7, 2, 1, 7, 1, 3, 3, 7, 7, 5, 2, 7, 3, 7, 7, 1, 3, 7, 3, 7, 5, 3, 1, 3, 7, 5, 5, 3, 3, 3, 4, 7, 5, 1, 1, 4, 3, 4, 7, 7, 7, 3, 3, 4, 7, 5, 1, 7, 1, 7, 7, 5, 7, 2, 3, 1, 2, 2, 4, 3, 5, 2, 2, 7, 7, 7, 7, 1, 4, 3, 1, 7, 1, 2, 1, 1, 4, 1, 7, 3, 7, 5, 1, 5, 1, 1, 5, 4, 3, 3, 7, 1, 1, 3, 5, 7, 4, 4, 1, 3, 7, 7, 1, 1, 1, 7, 2, 1, 5, 7, 2, 3, 1, 2, 7, 1, 1, 7, 3, 7, 1, 7, 3, 7, 1, 7, 2, 7, 5, 7, 7, 1, 3, 5, 4, 2, 7, 1, 1, 3, 4, 1, 7, 4, 2, 4, 7, 3, 3, 5, 1, 1, 4, 2, 3, 1, 1, 2, 7, 3, 7, 2, 1, 3, 3, 3, 1, 3, 2, 5, 7, 3, 5, 3, 2, 1, 2, 7, 5, 1, 3, 5, 1, 2, 5, 1, 5, 1, 1, 2, 2, 3, 4, 5, 7, 4, 5, 1, 7, 1, 3, 1, 7, 1, 7, 1, 7, 1, 7, 1, 7, 2, 2, 4, 7, 7, 4, 7, 5, 5, 5, 7, 3, 7, 2, 7, 1, 4, 7, 1, 4, 2, 2, 3, 4, 1, 3, 7, 1, 1, 4, 1, 4, 3, 3, 1, 1, 4, 2, 3, 2, 4, 2, 3, 7, 2, 5, 4, 7, 2, 3, 7, 2, 4, 4, 1, 7, 1, 7, 3, 7, 7, 3, 2, 7, 7, 7, 2, 1, 7, 4, 1, 7, 4, 3, 1, 1, 7, 1, 1, 2, 3, 4, 4, 2, 2, 4, 1, 7, 1, 4, 3, 1, 7, 1, 2, 3, 2, 3, 7, 5, 7, 3, 4, 3, 1, 5, 7, 5, 5, 3, 2, 1, 3, 3, 5, 7, 2, 1, 3, 1, 2, 3, 1, 4, 7, 2, 1, 4, 3, 7, 7, 3, 3, 7, 1, 3, 1, 7, 1, 1, 3, 3, 3, 2, 7, 3, 7, 3, 1, 7, 5, 3, 4, 1, 3, 1, 1, 7, 1, 3, 2, 7, 4, 1, 7, 5, 5, 7, 3, 7, 7, 1, 1, 2, 1, 1, 3, 2, 5, 3, 1, 5, 4, 4, 2, 1, 1, 1, 7, 1, 7, 7, 4, 7, 3, 7, 2, 2, 5, 5, 7, 7, 7, 7, 1, 1, 7, 3, 1, 7, 1, 7, 5, 1, 4, 3, 7, 3, 7, 7, 4, 1, 1, 3, 1, 3, 5, 7, 2, 1, 7, 2, 4, 7, 7, 1, 1, 3, 3, 1, 2, 1, 1, 3, 1, 3, 2, 1, 5, 3, 7, 7, 5, 7, 7, 1, 3, 7, 2, 1, 1, 1, 2, 7, 3, 7, 1, 4, 7, 2, 5, 3, 3, 3, 3, 3, 1, 2, 3, 3, 7, 1, 1, 7, 3, 7, 2, 4, 7, 7, 7, 3, 7, 2, 7, 7, 1, 4, 7, 1, 4, 7, 3, 7, 4, 3, 3, 7, 7, 1, 7, 3, 1, 3, 1, 3, 2, 4, 2, 4, 1, 1, 5, 1, 3, 4, 3, 1, 7, 1, 3, 3, 7, 5, 7, 5, 1, 2, 4, 7, 2, 7, 1, 1, 3, 3, 1, 4, 1, 4, 7, 1, 7, 1, 3, 5, 3, 2, 1, 2, 2, 5, 3, 1, 3, 7, 3, 4, 3, 5, 3, 4, 1, 3, 3, 5, 5, 2, 7, 4, 3, 7, 4, 1, 3, 5, 3, 3, 1, 1, 3, 1, 7, 7, 4, 4, 1, 2, 3, 2, 2, 4, 3, 7, 3, 3, 1, 5, 7, 7, 5, 7, 3, 4, 5, 3, 7, 3, 7, 1, 7, 1, 3, 2, 1, 3, 3, 1, 1, 3, 3, 1, 2, 3, 7, 7, 7, 1, 1, 5, 7, 7, 1, 3, 5, 3, 1, 2, 7, 7, 2, 1, 3, 3, 4, 1, 3, 4, 1, 3, 1, 7, 1, 7, 4, 4, 3, 1, 1, 5, 3, 3, 5, 5, 3, 1, 2, 3, 3, 4, 4, 4, 1, 7, 5, 4, 1, 7, 7, 1, 1, 3, 5, 5, 7, 2, 1, 1, 7, 3, 5, 1, 2, 7, 1, 7, 3, 2, 3, 2, 3, 7, 7, 4, 1, 7, 5, 7, 2, 3, 1, 1, 3, 7, 3, 2, 3, 7, 2, 7, 7, 4, 1, 4, 1, 1, 7, 4, 7, 5, 2, 5, 1, 7, 3, 1, 5, 2, 7, 1, 3, 7, 3, 4, 4, 3, 5, 1, 7, 2, 7, 1, 1, 1, 1, 3, 3, 7, 7, 3, 2, 1, 4, 3, 7, 7, 7, 7, 7, 2, 5, 5, 1, 2, 4, 4, 7, 3, 4, 7, 3, 3, 1, 2, 7, 1, 7, 1, 7, 3, 1, 4, 3, 5, 5, 7, 7, 7, 7, 1, 7, 7, 1, 7, 7, 4, 3, 5, 2, 2, 3, 7, 3, 3, 2, 4, 5, 7, 4, 3, 7, 3, 1, 2, 1, 4, 1, 7, 4, 1, 2, 3, 3, 1, 3, 4, 7, 1, 1, 1, 5, 2, 1, 3, 3, 3, 1, 7, 3, 3, 7, 3, 7, 2, 1, 7, 7, 4, 7, 2, 1, 7, 7, 4, 1, 1, 3, 3, 7, 3, 7, 4, 1, 7, 1, 4, 4, 2, 7, 5, 3, 3, 7, 7, 2, 3, 1, 5, 7, 3, 1, 1, 2, 1, 1, 4, 2, 5, 7, 2, 4, 3, 3, 1, 4, 7, 5, 3, 7, 1, 1, 5, 2, 3, 1, 3, 7, 1, 3, 7, 4, 1, 3, 4, 7, 3, 5, 7, 1, 5, 5, 7, 5, 5, 1, 7, 7, 5, 2, 2, 4, 3, 3, 4, 4, 3, 3, 7, 2, 5, 3, 1, 2, 2, 4, 1, 7, 7, 1, 1, 7, 1, 7, 7, 3, 2, 7, 7, 7, 5, 2, 1, 2, 3, 7, 7, 7, 1, 3, 1, 1, 3, 7, 7, 3, 3, 7, 7, 4, 1, 3, 1, 2, 2, 2, 7, 1, 4, 3, 1, 1, 2, 7, 1, 3, 1, 5, 5, 3, 1, 4, 3, 3, 2, 1, 7, 7, 7, 7, 1, 1, 5, 3, 2, 3, 3, 3, 1, 3, 4, 5, 7, 2, 3, 3, 2, 3, 3, 1, 1, 4, 1, 1, 4, 1, 3, 2, 4, 7, 3, 3, 7, 7, 3, 3, 7, 7, 4, 1, 7, 2, 2, 7, 2, 2, 1, 7, 1, 1, 3, 1, 2, 5, 5, 7, 7, 7, 7, 3, 3, 1, 1, 7, 5, 1, 5, 5, 1, 2, 5, 5, 2, 1, 2, 7, 7, 2, 3, 5, 3, 2, 2, 5, 7, 3, 3, 3, 2, 3, 4, 3, 7, 1, 5, 5, 1, 7, 5, 1, 3, 3, 3, 1, 1, 7, 2, 7, 7, 1, 7, 7, 1, 2, 1, 3, 7, 3, 1, 2, 5, 3, 1, 3, 5, 2, 3, 3, 3, 5, 7, 3, 7, 1, 3, 1, 3, 1, 7, 7, 1, 3, 2, 1, 1, 1, 2, 7, 1, 3, 3, 1, 1, 2, 3, 5, 1, 7, 7, 7, 3, 7, 3, 7, 7, 5, 3, 5, 7, 2, 3, 3, 7, 7, 3, 5, 4, 1, 4, 1, 3, 7, 4, 7, 5, 5, 2, 3, 2, 7, 1, 3, 3, 1, 3, 3, 3, 3, 3, 3, 1, 7, 2, 2, 5, 1, 1, 5, 3, 7, 1, 1, 1, 7, 3, 7, 3, 7, 1, 7, 1, 5, 1, 1, 7, 1, 7, 3, 3, 1, 1, 4, 1, 7, 1, 4, 7, 3, 7, 7, 1, 1, 7, 1, 1, 3, 7, 1, 1, 2, 2, 3, 4, 5, 3, 1, 7, 3, 7, 4, 2, 2, 1, 5, 5, 7, 2, 2, 3, 1, 3, 1, 1, 7, 1, 2, 1, 5, 7, 1, 4, 7, 3, 1, 5, 4, 1, 3, 2, 7, 1, 1, 3, 2, 7, 1, 2, 3, 2, 2, 3, 2, 7, 7, 2, 3, 7, 2, 1, 7, 4, 1, 7, 1, 1, 7, 3, 3, 4, 3, 7, 1, 1, 1, 7, 7, 7, 1, 7, 7, 2, 7, 7, 7, 5, 1, 5, 7, 1, 1, 2, 1, 7, 1, 5, 3, 1, 1, 2, 7, 1, 7, 1, 7, 3, 3, 2, 7, 3, 4, 7, 3, 5, 5, 5, 4, 3, 7, 1, 1, 2, 4, 4, 5, 7, 1, 7, 1, 3, 1, 5, 2, 2, 3, 3, 3, 7, 2, 1, 1, 7, 3, 1, 7, 3, 7, 2, 2, 4, 3, 7, 7, 7, 1, 3, 4, 4, 1, 3, 7, 2, 4, 3, 1, 2, 3, 1, 2, 7, 7, 4, 3, 3, 3, 3, 1, 5, 7, 3, 5, 3, 1, 7, 4, 7, 1, 5, 4, 5, 3, 1, 7, 1, 5, 3, 7, 7, 1, 7, 5, 4, 1, 1, 2, 5, 1, 5, 3, 5, 4, 2, 1, 3, 3, 3, 3, 2, 1, 1, 5, 2, 3, 3, 1, 3, 1, 7, 3, 7, 3, 7, 4, 3, 7, 1, 7, 1, 3, 3, 1, 3, 3, 1, 3, 3, 3, 4, 5, 7, 2, 5, 7, 4, 3, 7, 7, 5, 1, 5, 1, 4, 2, 1, 7, 3, 3, 7, 1, 7, 3, 7, 5, 4, 4, 5, 1, 7, 4, 7, 5, 5, 3, 3, 1, 1, 4, 1, 4, 7, 2, 4, 7, 3, 7, 3, 7, 1, 3, 2, 4, 4, 5, 1, 4, 7, 1, 3, 3, 3, 7, 7, 1, 1, 3, 4, 5, 3, 3, 5, 7, 3, 4, 3, 3, 3, 3, 3, 1, 4, 4, 3, 3, 2, 2, 5, 7, 3, 2, 1, 2, 7, 3, 4, 2, 7, 3, 7, 4, 1, 3, 1, 2, 3, 2, 7, 3, 5, 3, 1, 1, 1, 2, 7, 7, 3, 1, 2, 3, 1, 5, 2, 7, 3, 2, 3, 2, 7, 7, 4, 1, 7, 2, 7, 7, 3, 7, 1, 3, 7, 7, 1, 5, 5, 4, 2, 7, 7, 1, 1, 1, 2, 3, 7, 1, 7, 7, 2, 1, 2, 5, 7, 1, 3, 3, 4, 5, 1, 5, 1, 7, 3, 7, 7, 2, 3, 7, 1, 5, 4, 3, 1, 5, 1, 7, 4, 1, 5, 4, 7, 1, 3, 7, 7, 2, 3, 5, 3, 7, 7, 2, 4, 1, 7, 3, 1, 7, 7, 7, 3, 4, 7, 1, 7, 1, 7, 7, 2, 1, 4, 7, 4, 3, 2, 3, 4, 7, 3, 7, 4, 7, 1, 5, 3, 4, 4, 7, 7, 7, 1, 7, 2, 2, 1, 3, 2, 5, 5, 7, 7, 3, 3, 1, 1, 5, 5, 2, 7, 4, 7, 1, 3, 5, 3, 1, 3, 7, 4, 7, 7, 1, 7, 1, 3, 7, 3, 1, 4, 4, 7, 1, 3, 3, 5, 5, 1, 7, 3, 3, 1, 5, 3, 2, 3, 7, 1, 3, 3, 7, 2, 3, 2, 3, 3, 1, 7, 3, 2, 7, 7, 5, 7, 5, 5, 2, 3, 7, 4, 4, 3, 5, 1, 1, 1, 1, 1, 1, 1, 2, 3, 7, 1, 5, 1, 2, 3, 1, 4, 5, 4, 4, 1, 4, 1, 2, 5, 7, 1, 5, 7, 1, 1, 4, 2, 4, 7, 3, 3, 7, 1, 7, 7, 1, 7, 4, 1, 1, 7, 4, 3, 7, 1, 3, 3, 1, 7, 3, 3, 1, 2, 4, 3, 7, 7, 7, 2, 7, 5, 7, 3, 4, 5, 5, 7, 1, 1, 7, 7, 3, 1, 1, 3, 1, 1, 4, 4, 1, 4, 2, 1, 3, 3, 2, 3, 3, 5, 4, 3, 3, 5, 3, 2, 7, 5, 4, 4, 7, 3, 3, 1, 7, 1, 7, 1, 7, 2, 4, 3, 1, 7, 3, 3, 1, 5, 7, 2, 5, 2, 1, 1, 4, 7, 3, 5, 2, 4, 3, 3, 5, 3, 4, 3, 1, 7, 5, 1, 1, 4, 3, 3, 3, 4, 5, 3, 1, 3, 4, 5]},\n",
              "      dtype=object)"
            ]
          },
          "metadata": {
            "tags": []
          },
          "execution_count": 53
        }
      ]
    },
    {
      "cell_type": "code",
      "metadata": {
        "id": "1H5SQnNEuBgm",
        "colab_type": "code",
        "colab": {
          "base_uri": "https://localhost:8080/",
          "height": 1000
        },
        "outputId": "adc0fbad-eafb-454c-f5c8-cdc18c599302"
      },
      "source": [
        "np.array(node['left_child'])"
      ],
      "execution_count": 54,
      "outputs": [
        {
          "output_type": "execute_result",
          "data": {
            "text/plain": [
              "array({'X_bootstrap': array([[101, 116, 122,  96],\n",
              "       [ 99, 118, 122,  96],\n",
              "       [101, 116, 122,  96],\n",
              "       [ 88, 107, 118,  96],\n",
              "       [ 64, 107, 122,  96],\n",
              "       [ 68, 112, 128,  96],\n",
              "       [ 71, 107, 118,  96],\n",
              "       [ 71, 107, 118,  96],\n",
              "       [ 64, 107, 118,  96],\n",
              "       [ 71, 103, 113,  96],\n",
              "       [ 63,  64, 104,  96],\n",
              "       [ 75, 103, 113,  96],\n",
              "       [ 90, 113, 122,  96],\n",
              "       [ 64, 112, 122,  96],\n",
              "       [ 67, 107, 123,  96],\n",
              "       [ 63,  64, 104,  96],\n",
              "       [ 93, 111, 118,  96],\n",
              "       [ 88, 116, 122,  96],\n",
              "       [ 60, 107, 122,  96],\n",
              "       [ 59,  67, 104,  96],\n",
              "       [ 80, 107, 118,  96],\n",
              "       [ 67, 107, 123,  96],\n",
              "       [ 67, 111, 118,  96],\n",
              "       [ 71, 111, 123,  96],\n",
              "       [ 71, 111, 118,  96],\n",
              "       [ 78, 113, 112,  96],\n",
              "       [ 67, 111, 123,  96],\n",
              "       [ 53,  45,  96,  96],\n",
              "       [ 71, 107, 113,  96],\n",
              "       [ 67, 107, 113,  96],\n",
              "       [ 92, 116, 122,  96],\n",
              "       [ 71, 103, 118,  96],\n",
              "       [ 75, 107, 123,  96],\n",
              "       [ 67, 107, 118,  96],\n",
              "       [ 75,  99, 118,  96],\n",
              "       [ 84, 103, 118,  96],\n",
              "       [ 55,  61, 100,  96],\n",
              "       [ 67,  87, 113,  96],\n",
              "       [ 97, 121, 123,  96],\n",
              "       [ 97, 116, 123,  96],\n",
              "       [ 71, 103, 113,  96],\n",
              "       [ 64, 103, 118,  96],\n",
              "       [ 67, 111, 118,  96],\n",
              "       [ 60, 107, 122,  96],\n",
              "       [ 51,  40,  96,  96],\n",
              "       [ 70, 113, 122,  96],\n",
              "       [ 71, 107, 118,  96],\n",
              "       [ 80, 107, 118,  96],\n",
              "       [ 64, 107, 118,  96],\n",
              "       [101, 116, 122,  96],\n",
              "       [ 67,  99, 113,  96],\n",
              "       [ 97, 111, 123,  96],\n",
              "       [ 67, 107, 113,  96],\n",
              "       [ 80, 107, 118,  96],\n",
              "       [ 66, 109, 122,  96],\n",
              "       [ 88, 107, 118,  96],\n",
              "       [ 95, 118, 122,  96],\n",
              "       [ 67, 107, 118,  96],\n",
              "       [ 78, 104, 122,  96],\n",
              "       [ 90, 113, 122,  96],\n",
              "       [ 71, 111, 128,  96],\n",
              "       [ 64, 112, 128,  96],\n",
              "       [ 84, 107, 118,  96],\n",
              "       [ 71, 107, 118,  96],\n",
              "       [ 64, 107, 118,  96],\n",
              "       [ 67, 111, 123,  96],\n",
              "       [101, 116, 122,  96],\n",
              "       [ 64, 103, 118,  96],\n",
              "       [ 66, 109, 122,  96],\n",
              "       [ 66, 104, 122,  96],\n",
              "       [ 64, 107, 118,  96],\n",
              "       [ 66, 109, 122,  96],\n",
              "       [ 90, 113, 117,  96],\n",
              "       [ 71, 107, 118,  96],\n",
              "       [ 70, 113, 122,  96],\n",
              "       [ 93, 111, 118,  96],\n",
              "       [ 66, 109, 122,  96],\n",
              "       [ 76, 112, 118,  96],\n",
              "       [ 84, 107, 118,  96],\n",
              "       [ 71, 107, 122,  96],\n",
              "       [ 71, 103, 118,  96],\n",
              "       [ 71, 107, 118,  96],\n",
              "       [ 71, 103, 113,  96],\n",
              "       [ 76, 116, 122,  96],\n",
              "       [ 67, 111, 118,  96],\n",
              "       [ 90, 113, 117,  96],\n",
              "       [ 71, 112, 122,  96],\n",
              "       [ 64, 103, 118,  96],\n",
              "       [ 71, 111, 123,  96],\n",
              "       [ 90, 113, 122,  96],\n",
              "       [ 84, 112, 122,  96],\n",
              "       [ 64, 112, 128,  96],\n",
              "       [ 59,  67, 104,  96],\n",
              "       [ 67, 107, 118,  96],\n",
              "       [ 66, 109, 122,  96],\n",
              "       [ 66, 104, 117,  96],\n",
              "       [ 67, 103, 118,  96],\n",
              "       [ 70, 113, 122,  96],\n",
              "       [ 66, 104, 122,  96],\n",
              "       [ 66, 109, 122,  96],\n",
              "       [ 97, 111, 118,  96],\n",
              "       [ 64, 103, 118,  96],\n",
              "       [ 80,  95, 118,  96],\n",
              "       [ 67, 111, 118,  96],\n",
              "       [ 64, 107, 122,  96],\n",
              "       [ 71, 107, 118,  96],\n",
              "       [ 70, 113, 122,  96],\n",
              "       [ 67, 103, 118,  96],\n",
              "       [ 75, 107, 118,  96],\n",
              "       [ 93, 116, 118,  96],\n",
              "       [ 90, 118, 122,  96],\n",
              "       [ 66, 109, 122,  96],\n",
              "       [ 97, 116, 118,  96],\n",
              "       [ 93, 111, 118,  96],\n",
              "       [ 88, 116, 122,  96],\n",
              "       [ 71, 111, 128,  96],\n",
              "       [ 71, 103, 122,  96],\n",
              "       [ 68,  75, 108,  96],\n",
              "       [ 64,  64, 104,  96],\n",
              "       [101, 116, 122,  96],\n",
              "       [ 66, 104, 122,  96],\n",
              "       [ 67, 111, 123,  96],\n",
              "       [ 71, 111, 118,  96],\n",
              "       [ 63, 113, 122,  96],\n",
              "       [ 71, 111, 118,  96],\n",
              "       [ 56,  63, 104,  96],\n",
              "       [ 70, 100, 117,  96],\n",
              "       [ 67, 107, 118,  96],\n",
              "       [ 60, 107, 122,  96],\n",
              "       [ 67, 107, 123,  96],\n",
              "       [ 74, 109, 112,  96],\n",
              "       [ 66, 109, 122,  96],\n",
              "       [ 71, 103, 118,  96],\n",
              "       [ 97, 111, 118,  96],\n",
              "       [ 71, 112, 122,  96],\n",
              "       [ 95, 118, 122,  96],\n",
              "       [ 67, 103, 118,  96],\n",
              "       [ 70, 113, 122,  96],\n",
              "       [ 63, 109, 122,  96],\n",
              "       [ 71, 103, 118,  96],\n",
              "       [ 92, 116, 122,  96],\n",
              "       [ 99, 118, 122,  96],\n",
              "       [ 71, 111, 128,  96],\n",
              "       [ 67,  87, 113,  96],\n",
              "       [ 66, 104, 122,  96],\n",
              "       [ 64, 103, 118,  96],\n",
              "       [ 93, 111, 118,  96],\n",
              "       [ 68, 107, 128,  96],\n",
              "       [ 66, 109, 122,  96],\n",
              "       [ 64, 112, 128,  96],\n",
              "       [ 66, 104, 108,  96],\n",
              "       [ 67, 111, 118,  96],\n",
              "       [ 93, 111, 118,  96],\n",
              "       [ 66, 109, 122,  96],\n",
              "       [ 67, 103, 118,  96],\n",
              "       [ 53,  45,  96,  96],\n",
              "       [ 90, 109, 117,  96],\n",
              "       [ 66, 104, 117,  96],\n",
              "       [ 71, 111, 118,  96],\n",
              "       [ 99, 118, 122,  96],\n",
              "       [ 71, 107, 118,  96],\n",
              "       [ 71, 103, 113,  96],\n",
              "       [ 63,  67, 108,  96],\n",
              "       [ 97, 116, 123,  96],\n",
              "       [ 64, 112, 128,  96],\n",
              "       [ 64, 107, 118,  96],\n",
              "       [ 88, 116, 122,  96],\n",
              "       [ 67, 111, 123,  96],\n",
              "       [ 88, 103, 113,  96],\n",
              "       [101, 116, 122,  96],\n",
              "       [ 63, 113, 122,  96],\n",
              "       [ 75, 107, 123,  96],\n",
              "       [ 67, 103, 113,  96],\n",
              "       [ 88, 103, 113,  96],\n",
              "       [ 67, 107, 118,  96],\n",
              "       [ 70, 113, 122,  96],\n",
              "       [ 71, 103, 118,  96],\n",
              "       [ 51,  40,  96,  96],\n",
              "       [ 90, 113, 127,  96],\n",
              "       [ 60, 107, 122,  96],\n",
              "       [ 64, 121, 122,  96],\n",
              "       [ 71, 111, 118,  96],\n",
              "       [ 68, 107, 122,  96],\n",
              "       [ 99, 113, 122,  96],\n",
              "       [ 67, 111, 118,  96],\n",
              "       [ 88, 116, 122,  96],\n",
              "       [ 68, 112, 118,  96],\n",
              "       [ 63, 103, 118,  96],\n",
              "       [ 64, 112, 122,  96],\n",
              "       [ 63,  64, 104,  96],\n",
              "       [ 78, 113, 112,  96],\n",
              "       [ 64, 107, 118,  96],\n",
              "       [ 75,  99, 118,  96],\n",
              "       [ 71, 107, 118,  96],\n",
              "       [ 97, 116, 122,  96],\n",
              "       [ 70, 104, 112,  96],\n",
              "       [ 75, 107, 118,  96],\n",
              "       [ 71, 107, 118,  96],\n",
              "       [101, 116, 122,  96],\n",
              "       [ 97, 112, 118,  96],\n",
              "       [ 92, 107, 118,  96],\n",
              "       [ 92, 107, 118,  96],\n",
              "       [ 70, 113, 122,  96],\n",
              "       [101, 116, 122,  96],\n",
              "       [ 75, 103, 118,  96],\n",
              "       [ 71, 107, 118,  96],\n",
              "       [ 66, 104, 122,  96],\n",
              "       [ 67,  99, 113,  96],\n",
              "       [ 71, 107, 118,  96],\n",
              "       [ 70, 113, 122,  96],\n",
              "       [ 63,  64, 104,  96],\n",
              "       [ 50,  48,  96,  96],\n",
              "       [ 64, 107, 122,  96],\n",
              "       [ 80, 107, 118,  96],\n",
              "       [ 93, 116, 118,  96],\n",
              "       [ 76, 112, 118,  96],\n",
              "       [ 50,  48,  96,  96],\n",
              "       [ 50,  57,  96,  96],\n",
              "       [ 93, 116, 123,  96],\n",
              "       [ 95, 113, 117,  96],\n",
              "       [ 68, 107, 118,  96],\n",
              "       [ 68,  75, 108,  96],\n",
              "       [ 67, 111, 118,  96],\n",
              "       [ 95, 113, 117,  96],\n",
              "       [ 74, 109, 112,  96],\n",
              "       [ 97, 121, 123,  96],\n",
              "       [ 66, 109, 122,  96],\n",
              "       [ 84, 112, 122,  96],\n",
              "       [ 66, 113, 117,  96],\n",
              "       [101, 116, 122,  96],\n",
              "       [ 71, 111, 118,  96],\n",
              "       [ 71, 111, 118,  96]]), 'y_bootstrap': [3, 3, 3, 3, 1, 1, 1, 1, 1, 1, 5, 1, 3, 1, 1, 5, 3, 3, 1, 5, 3, 1, 1, 1, 1, 1, 1, 2, 1, 1, 3, 1, 1, 1, 5, 1, 2, 5, 3, 3, 1, 1, 1, 1, 2, 1, 1, 3, 1, 3, 1, 3, 1, 3, 1, 3, 3, 1, 1, 3, 1, 1, 3, 1, 1, 1, 3, 1, 1, 1, 1, 1, 3, 1, 1, 3, 1, 1, 3, 1, 1, 1, 1, 1, 1, 3, 1, 1, 1, 3, 1, 1, 5, 1, 1, 1, 1, 1, 1, 1, 3, 1, 5, 1, 1, 1, 1, 1, 1, 3, 3, 1, 3, 3, 3, 1, 1, 5, 2, 3, 1, 1, 1, 1, 1, 5, 1, 1, 1, 1, 1, 1, 1, 3, 1, 3, 1, 1, 1, 1, 3, 3, 1, 5, 1, 1, 3, 1, 1, 1, 1, 1, 3, 1, 1, 2, 3, 1, 1, 3, 1, 1, 5, 3, 1, 1, 1, 1, 3, 3, 1, 1, 1, 3, 1, 1, 1, 2, 3, 1, 1, 1, 1, 3, 1, 1, 1, 1, 1, 5, 1, 1, 5, 1, 3, 1, 1, 1, 3, 3, 3, 3, 1, 3, 1, 1, 1, 1, 1, 1, 5, 2, 1, 3, 3, 1, 2, 5, 3, 3, 1, 5, 1, 3, 1, 3, 1, 1, 1, 3, 1, 1]},\n",
              "      dtype=object)"
            ]
          },
          "metadata": {
            "tags": []
          },
          "execution_count": 54
        }
      ]
    },
    {
      "cell_type": "code",
      "metadata": {
        "id": "5YMdxahvuFSS",
        "colab_type": "code",
        "colab": {
          "base_uri": "https://localhost:8080/",
          "height": 34
        },
        "outputId": "bea920e2-dd69-4538-96fa-c448dcedd230"
      },
      "source": [
        "np.array(node['feature_idx'])"
      ],
      "execution_count": 55,
      "outputs": [
        {
          "output_type": "execute_result",
          "data": {
            "text/plain": [
              "array(3)"
            ]
          },
          "metadata": {
            "tags": []
          },
          "execution_count": 55
        }
      ]
    },
    {
      "cell_type": "code",
      "metadata": {
        "id": "rFz4tqDjuJNu",
        "colab_type": "code",
        "colab": {
          "base_uri": "https://localhost:8080/",
          "height": 34
        },
        "outputId": "0b03f438-4f6f-437d-f713-a255ea71cc7a"
      },
      "source": [
        "node['split_point']"
      ],
      "execution_count": 56,
      "outputs": [
        {
          "output_type": "execute_result",
          "data": {
            "text/plain": [
              "96"
            ]
          },
          "metadata": {
            "tags": []
          },
          "execution_count": 56
        }
      ]
    },
    {
      "cell_type": "code",
      "metadata": {
        "id": "APpjaKiIuO9d",
        "colab_type": "code",
        "colab": {
          "base_uri": "https://localhost:8080/",
          "height": 34
        },
        "outputId": "19609544-008e-40fb-cccd-222367b57159"
      },
      "source": [
        "node['information_gain']"
      ],
      "execution_count": 57,
      "outputs": [
        {
          "output_type": "execute_result",
          "data": {
            "text/plain": [
              "0.02157664002847881"
            ]
          },
          "metadata": {
            "tags": []
          },
          "execution_count": 57
        }
      ]
    }
  ]
}