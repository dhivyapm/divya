{
  "nbformat": 4,
  "nbformat_minor": 0,
  "metadata": {
    "colab": {
      "name": "Random-forest.ipynb",
      "provenance": [],
      "mount_file_id": "https://github.com/dhivyapm/divya/blob/master/Random_forest.ipynb",
      "authorship_tag": "ABX9TyOv+WyTSHUyrKeo9JIvEcgh",
      "include_colab_link": true
    },
    "kernelspec": {
      "name": "python3",
      "display_name": "Python 3"
    }
  },
  "cells": [
    {
      "cell_type": "markdown",
      "metadata": {
        "id": "view-in-github",
        "colab_type": "text"
      },
      "source": [
        "<a href=\"https://colab.research.google.com/github/dhivyapm/divya/blob/master/Random_forest.ipynb\" target=\"_parent\"><img src=\"https://colab.research.google.com/assets/colab-badge.svg\" alt=\"Open In Colab\"/></a>"
      ]
    },
    {
      "cell_type": "markdown",
      "metadata": {
        "id": "Y47GXRzCBSVH",
        "colab_type": "text"
      },
      "source": [
        "I found the information about how the model works in this website\n",
        "https://medium.com/coinmonks/what-is-entropy-and-why-information-gain-is-matter-4e85d46d2f01"
      ]
    },
    {
      "cell_type": "code",
      "metadata": {
        "id": "s2n8BFeoBPzZ",
        "colab_type": "code",
        "colab": {
          "base_uri": "https://localhost:8080/",
          "height": 34
        },
        "outputId": "92cda8e3-691b-4404-deb6-c8fe06c4e0f7"
      },
      "source": [
        "import pandas as pd # to read the dataset and convert the dataset to DataFrame which is in table format\n",
        "import numpy as np # numpy is for computing, here I'm using this package for randomly select the rows from the dataset\n",
        "import random # to randomly select the datapoints from dataset\n",
        "df = pd.read_csv('/content/drive/My Drive/satelite.csv')\n",
        "print(df.shape)"
      ],
      "execution_count": 2,
      "outputs": [
        {
          "output_type": "stream",
          "text": [
            "(6435, 37)\n"
          ],
          "name": "stdout"
        }
      ]
    },
    {
      "cell_type": "code",
      "metadata": {
        "id": "OXTT8qoSAsn6",
        "colab_type": "code",
        "colab": {}
      },
      "source": [
        "df_copy  = df.copy()"
      ],
      "execution_count": 0,
      "outputs": []
    },
    {
      "cell_type": "code",
      "metadata": {
        "id": "fEloKOZAAtZY",
        "colab_type": "code",
        "colab": {}
      },
      "source": [
        "df1 = df_copy.drop('Column37',axis=1)"
      ],
      "execution_count": 0,
      "outputs": []
    },
    {
      "cell_type": "code",
      "metadata": {
        "id": "OAuQ7hcqAwSX",
        "colab_type": "code",
        "outputId": "57f91485-525d-4da6-c976-cc7dab5a68d6",
        "colab": {
          "base_uri": "https://localhost:8080/",
          "height": 34
        }
      },
      "source": [
        "features = list(df1.columns)\n",
        "random.seed(30) # If you want to generate the same number every time,before doing the shuffle\n",
        "df = df.sample(frac=1)# shuffle the dataset\n",
        "df.shape"
      ],
      "execution_count": 5,
      "outputs": [
        {
          "output_type": "execute_result",
          "data": {
            "text/plain": [
              "(6435, 37)"
            ]
          },
          "metadata": {
            "tags": []
          },
          "execution_count": 5
        }
      ]
    },
    {
      "cell_type": "code",
      "metadata": {
        "id": "Gq1Ic6BtAysH",
        "colab_type": "code",
        "outputId": "a053dbd6-f617-4695-f9e2-20b0f0aeb24d",
        "colab": {
          "base_uri": "https://localhost:8080/",
          "height": 263
        }
      },
      "source": [
        "#train_test_Split\n",
        "train_size = int(0.9 * len(df)) #train_size =5791\n",
        "X_train = df[features][:train_size] # X_train takes the values of the columns from 1 to 36 from the dataset upto the train_size rows(5791 rows)\n",
        "y_train = df['Column37'][:train_size] #y_train takes the last column values which is label upto the train_size(5791 rows)\n",
        "X_test = df[features][train_size:] # X_test takes the values of the columns from 1 to 36 starting from rows 5791 upto the dataset length which is 6435\n",
        "y_test = df['Column37'][train_size:] # y_test takes the last column values which is label starting from rows 5791 upto the dataset length which is 6435\n",
        "print(X_train)"
      ],
      "execution_count": 6,
      "outputs": [
        {
          "output_type": "stream",
          "text": [
            "      Column1  Column2  Column3  ...  Column34  Column35  Column36\n",
            "2130       75       87       93  ...        91        97        75\n",
            "4794       71       83       89  ...        84        82        68\n",
            "305        93      115      114  ...        57        60        45\n",
            "3293       46       32      117  ...        49       101       101\n",
            "4922       67      108      119  ...       106       115        98\n",
            "...       ...      ...      ...  ...       ...       ...       ...\n",
            "4080       67       79       82  ...        79        79        59\n",
            "4585       63       81       82  ...        81        82        61\n",
            "3880       64       75       79  ...        75        80        59\n",
            "232        79       87       89  ...        88        93        72\n",
            "5721       55       87      104  ...        73        90        75\n",
            "\n",
            "[5791 rows x 36 columns]\n"
          ],
          "name": "stdout"
        }
      ]
    },
    {
      "cell_type": "code",
      "metadata": {
        "id": "JnuCTgOoA47O",
        "colab_type": "code",
        "colab": {}
      },
      "source": [
        "#calculating the bootstrap that is taking sample from train set and left out samples in dataset will be taken as out-of-bag which is used to test the model performance\n",
        "def n_bootstrap(X_train, y_train):\n",
        "    bootstrap_indices = list(np.random.choice(range(len(X_train)), len(X_train), replace = True)) #it as the index of the sample selected from the training set\n",
        "    oob_indices = [i for i in range(len(X_train)) if i not in bootstrap_indices] # it as the index of the left over samples in the training set\n",
        "    X_bootstrap = X_train.iloc[bootstrap_indices].values # here it takes the values of the specific index from the training\n",
        "    y_bootstrap = y_train.iloc[bootstrap_indices].values # it takes the array elements of the specific indices(labels)\n",
        "    X_oob = X_train.iloc[oob_indices].values # it takes the values of the left over samples in the training set\n",
        "    y_oob = y_train.iloc[oob_indices].values # it takes the array elements from the left over samples in the training set(labels)\n",
        "    return X_bootstrap, y_bootstrap, X_oob, y_oob # returns all the values of bootstrap and oob"
      ],
      "execution_count": 0,
      "outputs": []
    },
    {
      "cell_type": "code",
      "metadata": {
        "id": "ph2oTrg3Asbv",
        "colab_type": "code",
        "colab": {
          "base_uri": "https://localhost:8080/",
          "height": 263
        },
        "outputId": "176b53e0-e4d9-44ae-e445-953bc6c73ef8"
      },
      "source": [
        "X_bootstrap,y_bootstrap,X_oob,y_oob = n_bootstrap(X_train,y_train)\n",
        "print(X_bootstrap,y_bootstrap)\n",
        "print(X_oob,y_oob)"
      ],
      "execution_count": 8,
      "outputs": [
        {
          "output_type": "stream",
          "text": [
            "[[ 71  75  77 ...  77  86  60]\n",
            " [ 53  52  71 ...  54  74  62]\n",
            " [ 66 109 117 ...  88 105  83]\n",
            " ...\n",
            " [ 56  84  93 ...  66  82  72]\n",
            " [ 89 106 110 ... 103 104  81]\n",
            " [ 63  68  70 ...  73  75  57]] [7 5 1 ... 1 3 7]\n",
            "[[ 97 116 113 ... 112 114  90]\n",
            " [ 48  32 123 ...  40 105 113]\n",
            " [ 52  73  90 ...  77  94  76]\n",
            " ...\n",
            " [ 68  77  82 ...  83  85  62]\n",
            " [ 63  81  82 ...  81  82  61]\n",
            " [ 79  87  89 ...  88  93  72]] [3 2 1 ... 7 7 7]\n"
          ],
          "name": "stdout"
        }
      ]
    },
    {
      "cell_type": "code",
      "metadata": {
        "id": "8BJA7NbiA8-I",
        "colab_type": "code",
        "colab": {}
      },
      "source": [
        "# calculate the Entropy(measure of disorder)\n",
        "#To which group does this sample belongs to\n",
        "#Entropy controls how a Decision Tree decides to split the data.\n",
        "#where entropy takes in a probability of a class within a node \n",
        "def entropy(target_col):\n",
        "    elements,counts = np.unique(target_col,return_counts = True)\n",
        "    entropy = np.sum([(-counts[i]/np.sum(counts))*np.log2(counts[i]/np.sum(counts)) for i in range(len(elements))])\n",
        "    return entropy"
      ],
      "execution_count": 0,
      "outputs": []
    },
    {
      "cell_type": "code",
      "metadata": {
        "id": "dIwXObMKBB4l",
        "colab_type": "code",
        "colab": {}
      },
      "source": [
        "#calculate the information gain to compare the entropy before and after split\n",
        "#Information_gain takes in a list of the classes from the left and right child and returns the information gain of that particular split.\n",
        "def information_gain(left_child, right_child):\n",
        "    parent = left_child + right_child\n",
        "    p_parent = parent.count(1) / len(parent) if len(parent) > 0 else 0\n",
        "    p_left = left_child.count(1) / len(left_child) if len(left_child) > 0 else 0\n",
        "    p_right = right_child.count(1) / len(right_child) if len(right_child) > 0 else 0\n",
        "    IG_p = entropy(p_parent) #calculate the entropy of parent node\n",
        "    IG_l = entropy(p_left) #calculate the entropy of left child node\n",
        "    IG_r = entropy(p_right) #calculate the entropy of right child node\n",
        "    return IG_p - len(left_child) / len(parent) * IG_l - len(right_child) / len(parent) * IG_r #return the information gain of parent and childs"
      ],
      "execution_count": 0,
      "outputs": []
    },
    {
      "cell_type": "code",
      "metadata": {
        "id": "CN6z63wOBJ4C",
        "colab_type": "code",
        "colab": {}
      },
      "source": [
        ""
      ],
      "execution_count": 0,
      "outputs": []
    }
  ]
}