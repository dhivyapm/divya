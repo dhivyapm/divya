{
  "nbformat": 4,
  "nbformat_minor": 0,
  "metadata": {
    "colab": {
      "name": "Untitled1.ipynb",
      "provenance": [],
      "authorship_tag": "ABX9TyOGuDMncIhzlBRFiQxN0J7+",
      "include_colab_link": true
    },
    "kernelspec": {
      "name": "python3",
      "display_name": "Python 3"
    }
  },
  "cells": [
    {
      "cell_type": "markdown",
      "metadata": {
        "id": "view-in-github",
        "colab_type": "text"
      },
      "source": [
        "<a href=\"https://colab.research.google.com/github/dhivyapm/divya/blob/master/deeplearning-lesson1.ipynb\" target=\"_parent\"><img src=\"https://colab.research.google.com/assets/colab-badge.svg\" alt=\"Open In Colab\"/></a>"
      ]
    },
    {
      "cell_type": "code",
      "metadata": {
        "id": "9N0Bil6POHXC",
        "colab_type": "code",
        "colab": {}
      },
      "source": [
        "import theano"
      ],
      "execution_count": 0,
      "outputs": []
    },
    {
      "cell_type": "code",
      "metadata": {
        "id": "8Gw71273OPmT",
        "colab_type": "code",
        "colab": {}
      },
      "source": [
        "from theano import tensor"
      ],
      "execution_count": 0,
      "outputs": []
    },
    {
      "cell_type": "code",
      "metadata": {
        "id": "xqaM70N3OjJG",
        "colab_type": "code",
        "colab": {
          "base_uri": "https://localhost:8080/",
          "height": 34
        },
        "outputId": "b2aa8626-f86f-4d81-81da-7f5fde687c6d"
      },
      "source": [
        "#declare two floating point scalars\n",
        "a = tensor.dscalar()\n",
        "b = tensor.dscalar()\n",
        "#create a simple expression\n",
        "c = a * b\n",
        "#convert the expression into callable object that takes (a, b)\n",
        "#values as input and compute the result as c\n",
        "f = theano.function([a,b],c)\n",
        "#bind 1.5 as a and 2.5 as b and evaluate c\n",
        "result = f(3.5,2.5)\n",
        "print(result)"
      ],
      "execution_count": 10,
      "outputs": [
        {
          "output_type": "stream",
          "text": [
            "8.75\n"
          ],
          "name": "stdout"
        }
      ]
    },
    {
      "cell_type": "code",
      "metadata": {
        "id": "d_RQ2tuwOusH",
        "colab_type": "code",
        "colab": {}
      },
      "source": [
        ""
      ],
      "execution_count": 0,
      "outputs": []
    }
  ]
}